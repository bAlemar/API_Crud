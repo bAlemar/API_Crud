{
 "cells": [
  {
   "cell_type": "code",
   "execution_count": 30,
   "metadata": {},
   "outputs": [
    {
     "name": "stdout",
     "output_type": "stream",
     "text": [
      "Status Code: 200\n",
      "Response Body: {'response': 'COMPLETADO'}\n"
     ]
    }
   ],
   "source": [
    "import requests\n",
    "# nome = dados_json[\"nome\"],\n",
    "# telefone = dados_json[\"telefone\"],\n",
    "# email = dados_json[\"email\"],\n",
    "# endereco = dados_json[\"endereço\"]\n",
    "\n",
    "import requests\n",
    "\n",
    "url = \"http://localhost:3000/cadastro\"\n",
    "data = {\n",
    "    \"attributes\": {\n",
    "        \"nome\": \"Matheus\",\n",
    "        \"telefone\": \"121312312\",  # Certifique-se de que as chaves estão em minúsculas\n",
    "        \"email\": \"bdasdasdas@htomail.com\",\n",
    "        \"endereco\": \"Rua itapuca 22,402\"\n",
    "    }\n",
    "}\n",
    "\n",
    "response = requests.post(url, json=data)\n",
    "\n",
    "print(\"Status Code:\", response.status_code)\n",
    "print(\"Response Body:\", response.json())\n",
    "\n"
   ]
  },
  {
   "cell_type": "code",
   "execution_count": 23,
   "metadata": {},
   "outputs": [
    {
     "name": "stdout",
     "output_type": "stream",
     "text": [
      "Status Code: 400\n",
      "Response Body: {'erros': [{'detail': 'Usuário Não encontrado', 'title': 'BadRequest'}]}\n"
     ]
    }
   ],
   "source": [
    "import requests\n",
    "\n",
    "url = \"http://localhost:3000/search\"\n",
    "data = {\n",
    "    \"nome\":\"beraddasda\"\n",
    "}\n",
    "\n",
    "response = requests.post(url, json=data)\n",
    "\n",
    "print(\"Status Code:\", response.status_code)\n",
    "print(\"Response Body:\", response.json())"
   ]
  },
  {
   "cell_type": "code",
   "execution_count": 31,
   "metadata": {},
   "outputs": [
    {
     "name": "stdout",
     "output_type": "stream",
     "text": [
      "Status Code: 200\n",
      "Response Body: {'response': 'Usuario dasdasdas excluido com sucesso'}\n"
     ]
    }
   ],
   "source": [
    "import requests\n",
    "\n",
    "url = \"http://localhost:3000/delete\"\n",
    "data = {\n",
    "    \"nome\":\"dasdasdas\"\n",
    "}\n",
    "\n",
    "response = requests.post(url, json=data)\n",
    "\n",
    "print(\"Status Code:\", response.status_code)\n",
    "print(\"Response Body:\", response.json())"
   ]
  },
  {
   "cell_type": "code",
   "execution_count": 40,
   "metadata": {},
   "outputs": [
    {
     "name": "stdout",
     "output_type": "stream",
     "text": [
      "Status Code: 422\n",
      "Response Body: {'erros': [{'detail': {'attributes': [{'dsadasnome': ['unknown field'], 'nome': ['required field'], 'telefone': ['max length is 13']}]}, 'title': 'UnprocessableEntity'}]}\n"
     ]
    }
   ],
   "source": [
    "import requests\n",
    "\n",
    "url = \"http://localhost:3000/update\"\n",
    "data = {\n",
    "    \"attributes\": {\n",
    "        \"dsadasnome\": \"Matheus\",\n",
    "        \"telefone\": \"353213123155555\",  # Certifique-se de que as chaves estão em minúsculas\n",
    "        \"email\": \"dasdasdad.alemar@htomail.com\",\n",
    "        \"endereco\": \"Rua itapuca 22,402\"\n",
    "    }\n",
    "}\n",
    "\n",
    "response = requests.post(url, json=data)\n",
    "\n",
    "print(\"Status Code:\", response.status_code)\n",
    "print(\"Response Body:\", response.json())\n"
   ]
  }
 ],
 "metadata": {
  "kernelspec": {
   "display_name": "Python 3",
   "language": "python",
   "name": "python3"
  },
  "language_info": {
   "codemirror_mode": {
    "name": "ipython",
    "version": 3
   },
   "file_extension": ".py",
   "mimetype": "text/x-python",
   "name": "python",
   "nbconvert_exporter": "python",
   "pygments_lexer": "ipython3",
   "version": "3.10.12"
  }
 },
 "nbformat": 4,
 "nbformat_minor": 2
}
